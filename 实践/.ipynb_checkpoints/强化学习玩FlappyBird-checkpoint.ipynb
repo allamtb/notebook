{
 "cells": [
  {
   "cell_type": "markdown",
   "metadata": {},
   "source": [
    "# 环境准备\n",
    "\n",
    "## 下载源码\n",
    "\n",
    "   在[GitHub](https://github.com/yenchenlin/DeepLearningFlappyBird]代码库)上下载zip包,此强化学习包的作者是：Yenchen Lin\n",
    "   也可以通过  git clone https://github.com/yenchenlin/DeepLearningFlappyBird.git 来进行下载\n",
    "   \n",
    "## 安装相应的包\n",
    "\n",
    "   在这里，我们使用conda进行包安装。\n",
    "   * conda install -c menpo opencv3 在 menpo通道下，下载openCV3\n",
    "   * pip install pygame   Pygame是跨平台Python模块，专为电子游戏设计。\n",
    "   * pip install tensorflow 记住，当前tensorflow 仅支持 python 3.5 版本\n",
    "   * cd DeepLearningFlappyBird 进入 DeepLearningFlappyBird\n",
    "   * python deep_q_network.py 运行 deep_q_network.py\n",
    "   \n",
    "## 运行结果\n",
    "\n",
    "\n",
    "\n",
    "## 过程\n",
    "\n",
    "   * 首先判断是否有已训练好的模型存档， `tf.train.get_checkpoint_state(\"saved_networks\")` 如果有的话，直接加载模型。\n",
    "   * 该游戏是作者使用 pygame 来编写的简单小游戏，就是不断的重复出现障碍柱形条，每次出现随机的通道让小鸟来通过。\n",
    "     游戏模型会根据输入的动作反馈几个值： 当前状态（图片）、采取行动获得的奖励、是否终结。  `game_state.frame_step(a_t)`\n",
    "   * Deep QL 是在QL的基础上，使用深度神经元网络把Q表扩展了。\n",
    "   \n",
    "   QL的公式如下：\n",
    "```python \n",
    "   Initialize replay memory D to size N\n",
    "Initialize action-value function Q with random weights\n",
    "for episode = 1, M do\n",
    "    Initialize state s_1\n",
    "    for t = 1, T do\n",
    "        With probability ϵ select random action a_t\n",
    "        otherwise select a_t=max_a  Q(s_t,a; θ_i)\n",
    "        Execute action a_t in emulator and observe r_t and s_(t+1)\n",
    "        Store transition (s_t,a_t,r_t,s_(t+1)) in D\n",
    "        Sample a minibatch of transitions (s_j,a_j,r_j,s_(j+1)) from D\n",
    "        Set y_j:=\n",
    "            r_j for terminal s_(j+1)\n",
    "            r_j+γ*max_(a^' )  Q(s_(j+1),a'; θ_i) for non-terminal s_(j+1)\n",
    "        Perform a gradient step on (y_j-Q(s_j,a_j; θ_i))^2 with respect to θ\n",
    "    end for\n",
    "end for\n",
    "```\n",
    "\n",
    "   "
   ]
  },
  {
   "cell_type": "code",
   "execution_count": null,
   "metadata": {
    "collapsed": true
   },
   "outputs": [],
   "source": []
  },
  {
   "cell_type": "code",
   "execution_count": null,
   "metadata": {
    "collapsed": true
   },
   "outputs": [],
   "source": []
  },
  {
   "cell_type": "code",
   "execution_count": null,
   "metadata": {
    "collapsed": true
   },
   "outputs": [],
   "source": []
  }
 ],
 "metadata": {
  "kernelspec": {
   "display_name": "Python 2",
   "language": "python",
   "name": "python2"
  },
  "language_info": {
   "codemirror_mode": {
    "name": "ipython",
    "version": 2
   },
   "file_extension": ".py",
   "mimetype": "text/x-python",
   "name": "python",
   "nbconvert_exporter": "python",
   "pygments_lexer": "ipython2",
   "version": "2.7.13"
  }
 },
 "nbformat": 4,
 "nbformat_minor": 2
}

{
 "cells": [
  {
   "cell_type": "code",
   "execution_count": 1,
   "metadata": {
    "collapsed": true
   },
   "outputs": [],
   "source": [
    "import numpy as np"
   ]
  },
  {
   "cell_type": "markdown",
   "metadata": {},
   "source": [
    "# 一、初始化数据"
   ]
  },
  {
   "cell_type": "markdown",
   "metadata": {},
   "source": [
    "  * 使用 **np.arange** 生成从0到6，步长为1 的数组 ，(0,6)左闭右开,即结果停留在5。"
   ]
  },
  {
   "cell_type": "code",
   "execution_count": 2,
   "metadata": {
    "collapsed": false,
    "scrolled": true
   },
   "outputs": [
    {
     "data": {
      "text/plain": [
       "array([ 0.,  1.,  2.,  3.,  4.,  5.], dtype=float32)"
      ]
     },
     "execution_count": 2,
     "metadata": {},
     "output_type": "execute_result"
    }
   ],
   "source": [
    "np.arange(0,6,1,np.float32)"
   ]
  },
  {
   "cell_type": "markdown",
   "metadata": {},
   "source": [
    "*  用 **np.linspace(0,2,5)** 来生成起始值为0、结束值为2、个数为5的数组。 这里5表示5个数，那么0-2之间的间隔就有4个，间隔值为0.5"
   ]
  },
  {
   "cell_type": "code",
   "execution_count": 3,
   "metadata": {
    "collapsed": false
   },
   "outputs": [
    {
     "data": {
      "text/plain": [
       "array([ 0. ,  0.5,  1. ,  1.5,  2. ])"
      ]
     },
     "execution_count": 3,
     "metadata": {},
     "output_type": "execute_result"
    }
   ],
   "source": [
    "np.linspace(0,2, 5)"
   ]
  },
  {
   "cell_type": "markdown",
   "metadata": {},
   "source": [
    " * 可使用 **np.reshape** 方法来对数组重新排列。"
   ]
  },
  {
   "cell_type": "code",
   "execution_count": 4,
   "metadata": {
    "collapsed": false
   },
   "outputs": [
    {
     "data": {
      "text/plain": [
       "array([[0, 1, 2],\n",
       "       [3, 4, 5]])"
      ]
     },
     "execution_count": 4,
     "metadata": {},
     "output_type": "execute_result"
    }
   ],
   "source": [
    "data=np.arange(0,6,1,np.float32)\n",
    "data=data.astype('int')\n",
    "np.reshape(data,(-1,3))"
   ]
  },
  {
   "cell_type": "markdown",
   "metadata": {},
   "source": [
    "* 使用 **np.array()** 将普通python数组转为numpy管理的ndarray数组"
   ]
  },
  {
   "cell_type": "code",
   "execution_count": 5,
   "metadata": {
    "collapsed": false
   },
   "outputs": [
    {
     "data": {
      "text/plain": [
       "array([[1, 3],\n",
       "       [4, 5]])"
      ]
     },
     "execution_count": 5,
     "metadata": {},
     "output_type": "execute_result"
    }
   ],
   "source": [
    "arr = [1,3,4,5]\n",
    "ndarr = np.array(arr)\n",
    "ndarr.reshape(2,2)"
   ]
  },
  {
   "cell_type": "markdown",
   "metadata": {},
   "source": [
    " * 使用 **ones /zeros/ zeros_like** 便捷生成比较常用的数组，如全 1 、全 0 数组\n",
    " "
   ]
  },
  {
   "cell_type": "code",
   "execution_count": 6,
   "metadata": {
    "collapsed": false
   },
   "outputs": [
    {
     "data": {
      "text/plain": [
       "array([[ 1.,  1.],\n",
       "       [ 1.,  1.],\n",
       "       [ 1.,  1.]])"
      ]
     },
     "execution_count": 6,
     "metadata": {},
     "output_type": "execute_result"
    }
   ],
   "source": [
    "np.ones((3,2))"
   ]
  },
  {
   "cell_type": "code",
   "execution_count": 7,
   "metadata": {
    "collapsed": false
   },
   "outputs": [
    {
     "data": {
      "text/plain": [
       "array([[ 0.,  0.],\n",
       "       [ 0.,  0.],\n",
       "       [ 0.,  0.]])"
      ]
     },
     "execution_count": 7,
     "metadata": {},
     "output_type": "execute_result"
    }
   ],
   "source": [
    "np.zeros((3,2))"
   ]
  },
  {
   "cell_type": "code",
   "execution_count": 8,
   "metadata": {
    "collapsed": false
   },
   "outputs": [
    {
     "data": {
      "text/plain": [
       "array([[0, 0, 0],\n",
       "       [0, 0, 0]])"
      ]
     },
     "execution_count": 8,
     "metadata": {},
     "output_type": "execute_result"
    }
   ],
   "source": [
    "arr = [[1,2,3],[3,2,1]]\n",
    "np.zeros_like(arr)"
   ]
  },
  {
   "cell_type": "markdown",
   "metadata": {},
   "source": [
    " * 使用 **np.random.normal**来生成高斯分布数组，均值为0 、标准差为0.05、形状为 3行、2列"
   ]
  },
  {
   "cell_type": "code",
   "execution_count": 9,
   "metadata": {
    "collapsed": false
   },
   "outputs": [
    {
     "data": {
      "text/plain": [
       "array([-0.00463891,  0.04610835, -0.01356317])"
      ]
     },
     "execution_count": 9,
     "metadata": {},
     "output_type": "execute_result"
    }
   ],
   "source": [
    "np.random.normal(0, 0.05,(3)) "
   ]
  },
  {
   "cell_type": "markdown",
   "metadata": {},
   "source": [
    "   * 使用 **np.random.randn(3)**来生成正态分布，即均值为0、标准差为0.05的高斯分布。numpy提供了np.random.randn方法来简化操作。"
   ]
  },
  {
   "cell_type": "code",
   "execution_count": 10,
   "metadata": {
    "collapsed": false
   },
   "outputs": [
    {
     "data": {
      "text/plain": [
       "array([-2.28676381,  0.78061822,  1.36720178])"
      ]
     },
     "execution_count": 10,
     "metadata": {},
     "output_type": "execute_result"
    }
   ],
   "source": [
    "np.random.randn(3) "
   ]
  },
  {
   "cell_type": "markdown",
   "metadata": {},
   "source": [
    "* 图形化正态分布"
   ]
  },
  {
   "cell_type": "code",
   "execution_count": 11,
   "metadata": {
    "collapsed": false
   },
   "outputs": [
    {
     "name": "stdout",
     "output_type": "stream",
     "text": [
      "-0.0148288563276\n",
      "0.947581587027\n"
     ]
    },
    {
     "data": {
      "text/plain": [
       "(array([   6.,   40.,  108.,  176.,  253.,  212.,  132.,   46.,   20.,    7.]),\n",
       " array([-2.75054713, -2.16658429, -1.58262144, -0.9986586 , -0.41469576,\n",
       "         0.16926708,  0.75322993,  1.33719277,  1.92115561,  2.50511846,\n",
       "         3.0890813 ]),\n",
       " <a list of 10 Patch objects>)"
      ]
     },
     "execution_count": 11,
     "metadata": {},
     "output_type": "execute_result"
    },
    {
     "data": {
      "image/png": "[encoded data removed]",
      "text/plain": [
       "<matplotlib.figure.Figure at 0x77b4c18>"
      ]
     },
     "metadata": {},
     "output_type": "display_data"
    }
   ],
   "source": [
    "mu, sigma = 0, 1\n",
    "s = np.random.normal(loc=mu, scale=sigma, size=1000)\n",
    "print np.mean(s)\n",
    "print np.std(s)\n",
    "%matplotlib inline\n",
    "import matplotlib.pyplot as plt  \n",
    "plt.hist(s)"
   ]
  },
  {
   "cell_type": "markdown",
   "metadata": {},
   "source": [
    "* **np.vstack** 垂直扩展，可以理解为数据库表中直接插入新数据 <br/>\n",
    "  **np.hstack** 水平扩展，可以理解为，在数据库表修改对应行，使得行数据等于 原数据+新数据"
   ]
  },
  {
   "cell_type": "code",
   "execution_count": 12,
   "metadata": {
    "collapsed": false
   },
   "outputs": [
    {
     "data": {
      "text/plain": [
       "array([[1],\n",
       "       [2],\n",
       "       [3],\n",
       "       [2],\n",
       "       [3],\n",
       "       [4]])"
      ]
     },
     "execution_count": 12,
     "metadata": {},
     "output_type": "execute_result"
    }
   ],
   "source": [
    "a = np.array([[1], [2], [3]])\n",
    "b = np.array([[2], [3], [4]])\n",
    "np.vstack((a,b))"
   ]
  },
  {
   "cell_type": "code",
   "execution_count": 13,
   "metadata": {
    "collapsed": false
   },
   "outputs": [
    {
     "data": {
      "text/plain": [
       "array([[1, 2],\n",
       "       [2, 3],\n",
       "       [3, 4]])"
      ]
     },
     "execution_count": 13,
     "metadata": {},
     "output_type": "execute_result"
    }
   ],
   "source": [
    "np.hstack((a,b))"
   ]
  },
  {
   "cell_type": "markdown",
   "metadata": {},
   "source": [
    "# 二、线性代数操作"
   ]
  },
  {
   "cell_type": "markdown",
   "metadata": {},
   "source": [
    "> Skyler Speakman曾说：“线性代数式21世纪的数学”，我完全赞同该论述。在ML领域，线性代数无处不在。矩阵运算、主成分分析（PCA）、奇异值分解（SVD）、特征分解、LU分解、QR分解、对称矩阵、正交化&标准正交化、投射、特征值&特征向量、向量空间和规范等这些概念对理解机器学习的优化方法都是必须的。我认为线性代数很棒的一点是，互联网上的资源非常多。我总是说传统课堂要消亡，因为互联网上有如此大量的资源。我最喜欢的线性代数课程是MIT的Gilbert Strang教授的。"
   ]
  },
  {
   "cell_type": "markdown",
   "metadata": {},
   "source": [
    "* 可以这样理解： 一维数组的称为向量，多维的数组称为矩阵。\n",
    "  在java的思路里面，进行两个向量相乘，可以用 \n",
    "    ```java \n",
    "      int [] x1 = [1,2,3];\n",
    "      int [] x2=[3,2,1];\n",
    "      int [] xnew =[0,0,0];\n",
    "      for(int i=0;i <x1.size();i++)\n",
    "      { \n",
    "        xnew[i]=x1[i]*x2[i]\n",
    "      }\n",
    "    ```\n",
    "  来完成，而在python中可以用numpy简单的完成："
   ]
  },
  {
   "cell_type": "code",
   "execution_count": 14,
   "metadata": {
    "collapsed": false
   },
   "outputs": [
    {
     "name": "stdout",
     "output_type": "stream",
     "text": [
      "1\n",
      "[3 4 3]\n"
     ]
    }
   ],
   "source": [
    "x1 = np.array([1,2,3])\n",
    "x2= np.array([3,2,1])\n",
    "print x1.ndim\n",
    "print x1*x2"
   ]
  },
  {
   "cell_type": "markdown",
   "metadata": {
    "collapsed": false
   },
   "source": [
    "* 使用 **np.linalg.eig(j)** 获取矩阵的特征向量以及特征值。 <br> 注意的是，返回值有 特征值w 以及对应的特征向量W。 因为返回值两者都是数组，其对应关系为 W[:,-1]  对应 w[1] .具体看下面的列子。\n",
    "\n",
    "> 特征值的定义： 设A是n阶矩阵，如果数 λ 和 n 维非零列向量ε使关系式：  <br>  \n",
    ">            A ε =  λε 成立  <br>          \n",
    ">  那么，这样的数 λ 称为矩阵 A的特征值，非零向量 ε称为A 对应于特征值 λ 的特征向量。 <br>\n",
    "\n",
    "参见工程数学线性代数第六版 P120"
   ]
  },
  {
   "cell_type": "code",
   "execution_count": 24,
   "metadata": {
    "collapsed": false
   },
   "outputs": [
    {
     "name": "stdout",
     "output_type": "stream",
     "text": [
      "[[ 3 -1]\n",
      " [-1  3]]\n",
      "[ 4.  2.]\n",
      "[[ 0.70710678  0.70710678]\n",
      " [-0.70710678  0.70710678]]\n",
      "4.0\n",
      "[ 0.70710678 -0.70710678]\n"
     ]
    }
   ],
   "source": [
    "j =np.array([[3,-1],[-1,3]])\n",
    "print j\n",
    "w,W = np.linalg.eig(j)\n",
    "print w\n",
    "print W\n",
    "print w[0]\n",
    "print W[:,0]"
   ]
  },
  {
   "cell_type": "markdown",
   "metadata": {},
   "source": [
    "* 协方差"
   ]
  },
  {
   "cell_type": "markdown",
   "metadata": {
    "collapsed": true
   },
   "source": [
    "# 三、实践问题\n",
    "\n",
    "   对任意形状的二维矩阵 x ，构建 softmax（x） 函数使得函数返回结果与 二维矩阵x 形状相同，<br>\n",
    "   且x矩阵中的每一个元素等于该元素的指数值与矩阵中与该元素同位的所有元素指数和 相除。\n",
    "   即如下公式：\n",
    "   <img src='softmax.png'>\n",
    "   softmax函数是机器学习多项式分类问题中常用到的 概率分布激活函数。\n",
    "   \n",
    "   给定的测试用例为："
   ]
  },
  {
   "cell_type": "code",
   "execution_count": 21,
   "metadata": {
    "collapsed": false
   },
   "outputs": [
    {
     "data": {
      "text/plain": [
       "(array([  3.00000000e+00,  -7.50963641e-17,   6.16297582e-33]),\n",
       " array([[  5.77350269e-01,   6.09781659e-01,  -8.29144485e-17],\n",
       "        [ -5.77350269e-01,   7.75129861e-01,   7.07106781e-01],\n",
       "        [  5.77350269e-01,   1.65348202e-01,   7.07106781e-01]]))"
      ]
     },
     "execution_count": 21,
     "metadata": {},
     "output_type": "execute_result"
    }
   ],
   "source": [
    "a = [[1,2,3],[3,2,1],[4,5,6]]\n",
    "arr = np.array(a)\n",
    "cov_mat = np.cov(arr)\n",
    "np.linalg.eig(cov_mat)\n"
   ]
  },
  {
   "cell_type": "code",
   "execution_count": 51,
   "metadata": {
    "collapsed": false
   },
   "outputs": [
    {
     "name": "stdout",
     "output_type": "stream",
     "text": [
      "[[ 1.   1.4  1.8  2.2  2.6  3. ]\n",
      " [ 1.   1.   1.   1.   1.   1. ]\n",
      " [ 0.2  0.2  0.2  0.2  0.2  0.2]]\n",
      "(3L, 6L) 2\n"
     ]
    }
   ],
   "source": [
    "x =np.linspace(1,3,6)\n",
    "arrX = np.vstack((x,np.ones_like(x),np.ones_like(x)*0.2))\n",
    "print arrX\n",
    "print arrX.shape, arrX.ndim"
   ]
  },
  {
   "cell_type": "markdown",
   "metadata": {},
   "source": [
    "建议自己先思考下再看下面的语句。<br>\n",
    "可以看到 一句话就可以搞定心目中的多重循环。"
   ]
  },
  {
   "cell_type": "code",
   "execution_count": 53,
   "metadata": {
    "collapsed": false
   },
   "outputs": [
    {
     "data": {
      "text/plain": [
       "[<matplotlib.lines.Line2D at 0x8e66cf8>,\n",
       " <matplotlib.lines.Line2D at 0x8e66eb8>,\n",
       " <matplotlib.lines.Line2D at 0x8e66fd0>]"
      ]
     },
     "execution_count": 53,
     "metadata": {},
     "output_type": "execute_result"
    },
    {
     "data": {
      "image/png": "[encoded data removed]",
      "text/plain": [
       "<matplotlib.figure.Figure at 0x885fbe0>"
      ]
     },
     "metadata": {},
     "output_type": "display_data"
    }
   ],
   "source": [
    "def softmax(x):\n",
    "   return np.exp(x)/np.sum(np.exp(x),axis=0)\n",
    "\n",
    "plt.plot(x,softmax(arrX).T)\n"
   ]
  }
 ],
 "metadata": {
  "kernelspec": {
   "display_name": "Python 2",
   "language": "python",
   "name": "python2"
  },
  "language_info": {
   "codemirror_mode": {
    "name": "ipython",
    "version": 2
   },
   "file_extension": ".py",
   "mimetype": "text/x-python",
   "name": "python",
   "nbconvert_exporter": "python",
   "pygments_lexer": "ipython2",
   "version": "2.7.13"
  }
 },
 "nbformat": 4,
 "nbformat_minor": 2
}

{
 "cells": [
  {
   "cell_type": "markdown",
   "metadata": {},
   "source": [
    "# 1.列表推导\n",
    "\n",
    " 你有一个list：bag = [1, 2, 3, 4, 5]\n",
    "\n",
    " 现在你想让所有元素翻倍，让它看起来是这个样子：[2, 4, 6, 8, 10]\n",
    " \n",
    " 大多初学者，根据之前语言的经验会大概这样来做\n"
   ]
  },
  {
   "cell_type": "code",
   "execution_count": 4,
   "metadata": {
    "collapsed": false
   },
   "outputs": [
    {
     "name": "stdout",
     "output_type": "stream",
     "text": [
      "[2, 4, 6, 8, 10]\n"
     ]
    }
   ],
   "source": [
    "bag = [1, 2, 3, 4, 5]  \n",
    "for i in range(len(bag)):  \n",
    "    bag[i] = bag[i] * 2\n",
    "print(bag)"
   ]
  },
  {
   "cell_type": "markdown",
   "metadata": {},
   "source": [
    "但是有更好的方法："
   ]
  },
  {
   "cell_type": "code",
   "execution_count": 6,
   "metadata": {
    "collapsed": false
   },
   "outputs": [
    {
     "name": "stdout",
     "output_type": "stream",
     "text": [
      "[2, 4, 6, 8, 10]\n"
     ]
    }
   ],
   "source": [
    "bag = [1, 2, 3, 4, 5]  \n",
    "bag =[ i*2 for i in bag]\n",
    "print(bag)"
   ]
  },
  {
   "cell_type": "markdown",
   "metadata": {},
   "source": [
    "# 2遍历列表 \n",
    "\n",
    "如果x是一个列表，你可以对它的元素进行迭代。多数情况下你不需要各元素的索引，但如果你非要这样做，那就用enumerate函数。\n",
    "它像下边的样子："
   ]
  },
  {
   "cell_type": "code",
   "execution_count": 7,
   "metadata": {
    "collapsed": false
   },
   "outputs": [
    {
     "name": "stdout",
     "output_type": "stream",
     "text": [
      "2\n",
      "4\n",
      "6\n",
      "8\n",
      "10\n",
      "0 2\n",
      "1 4\n",
      "2 6\n",
      "3 8\n",
      "4 10\n"
     ]
    }
   ],
   "source": [
    "for i in bag:\n",
    "    print(i)\n",
    "for index, element in enumerate(bag):  \n",
    "    print(index, element)"
   ]
  },
  {
   "cell_type": "markdown",
   "metadata": {},
   "source": [
    "注意遍历删除的问题是编程语言都会出现的问题，java中会出现同步修改异常。应该使用"
   ]
  },
  {
   "cell_type": "code",
   "execution_count": 8,
   "metadata": {
    "collapsed": false
   },
   "outputs": [
    {
     "name": "stdout",
     "output_type": "stream",
     "text": [
      "[2, 4]\n",
      "2\n"
     ]
    }
   ],
   "source": [
    "l = [1,2,3,4]\n",
    "for i in l:\n",
    "    if i != 4:\n",
    "         l.remove(i)\n",
    "print(l)   # 期望得到4  ，结果得到 2,4\n",
    "\n",
    "for item in filter(lambda x:x !=4,l):\n",
    "    print(item)"
   ]
  },
  {
   "cell_type": "markdown",
   "metadata": {},
   "source": [
    "# 3. 元素互换\n",
    "\n",
    "如果你是从java或者C语言转到Python来，可能会习惯于这样：\n",
    "``` java\n",
    "   String a = 5 ; \n",
    "   String  b = 10;\n",
    "   //交换 a 和 b\n",
    "   tmp = a  ;\n",
    "   a = b  ;\n",
    "   b = tmp;\n",
    "```\n",
    "   "
   ]
  },
  {
   "cell_type": "markdown",
   "metadata": {},
   "source": [
    "但Python提供了一个更自然更好的方法！\n"
   ]
  },
  {
   "cell_type": "code",
   "execution_count": 9,
   "metadata": {
    "collapsed": false
   },
   "outputs": [
    {
     "name": "stdout",
     "output_type": "stream",
     "text": [
      "10 5\n"
     ]
    }
   ],
   "source": [
    "a = 5  \n",
    "b = 10  \n",
    "# 交换a 和 b\n",
    "a, b = b, a\n",
    "print(a,b)"
   ]
  },
  {
   "cell_type": "markdown",
   "metadata": {},
   "source": [
    "# 4 初始化列表\n",
    "假如你要一个是10个整数0的列表，你可能首先想到：\n",
    "``` python\n",
    "bag = []  \n",
    "for _ in range(10):  \n",
    "    bag.append(0)\n",
    "```\n",
    "其实python 提供了："
   ]
  },
  {
   "cell_type": "code",
   "execution_count": 1,
   "metadata": {
    "collapsed": false
   },
   "outputs": [
    {
     "name": "stdout",
     "output_type": "stream",
     "text": [
      "[0, 0, 0, 0, 0, 0, 0, 0, 0, 0]\n"
     ]
    }
   ],
   "source": [
    "bag = [0] * 10 \n",
    "print(bag)"
   ]
  },
  {
   "cell_type": "code",
   "execution_count": 11,
   "metadata": {
    "collapsed": false
   },
   "outputs": [
    {
     "data": {
      "text/plain": [
       "0.6837986306483314"
      ]
     },
     "execution_count": 11,
     "metadata": {},
     "output_type": "execute_result"
    }
   ],
   "source": [
    "import random\n",
    "random.random()"
   ]
  },
  {
   "cell_type": "markdown",
   "metadata": {},
   "source": [
    "# 5 切片  "
   ]
  },
  {
   "cell_type": "code",
   "execution_count": 32,
   "metadata": {
    "collapsed": false
   },
   "outputs": [
    {
     "name": "stdout",
     "output_type": "stream",
     "text": [
      "[0, 1, 2, 3, 4]\n",
      "[5, 6, 7, 8, 9]\n",
      "[1, 3, 5, 7, 9]\n",
      "[9, 8, 7, 6, 5, 4, 3, 2, 1, 0]\n",
      "[[0 1 2]\n",
      " [3 4 5]\n",
      " [6 7 8]]\n",
      "arrs[:,-1]\n",
      "[2 5 8]\n",
      "arrs[:,:-1]\n",
      "[[0 1]\n",
      " [3 4]\n",
      " [6 7]]\n",
      "arrs[:,0]\n",
      "[0 3 6]\n",
      "arrs[:,1:]\n",
      "[[1 2]\n",
      " [4 5]\n",
      " [7 8]]\n"
     ]
    }
   ],
   "source": [
    "import numpy as np\n",
    "bag = [0, 1, 2, 3, 4, 5, 6, 7, 8, 9] \n",
    "#提取前5个元素,省略第一个元素。表示从0开始。\n",
    "print(bag[:5])\n",
    "#提取后5个元素,-5表示倒数第五个元素，省略第二个元素表示到最后一个元素。\n",
    "print(bag[-5:])\n",
    "#间隔2个元素进行提取,从1开始，按间隔:2取列表\n",
    "print(bag[1::2])\n",
    "#翻转列表\n",
    "print(bag[::-1])\n",
    "\n",
    "arrs = np.reshape(range(9),(3,3))\n",
    "print(arrs)\n",
    "print('arrs[:,-1]')\n",
    "# 第一个冒号：表示横轴取默认size迭代，这里为[0-2].表示取所有横轴。\n",
    "# 第二个冒号： 表示纵轴为末尾，表示取末尾列\n",
    "print(arrs[:,-1])\n",
    "print('arrs[:,:-1]')\n",
    "# 第一个冒号：表示横轴取默认size迭代，这里为[0-2].  表示取所有横轴。\n",
    "# 第二个冒号：-1 表示纵轴为末尾-1 ，这里为 1 表示取第二列\n",
    "print(arrs[:,:-1])\n",
    "print('arrs[:,0]')\n",
    "# 第一个冒号：表示横轴取默认size迭代，这里为[0-2].  表示取所有横轴。\n",
    "# 第二个0 ，表示取第一列。\n",
    "print(arrs[:,0])\n",
    "print('arrs[:,1:]')\n",
    "# 第一个冒号：表示横轴取默认size迭代，这里为[0-2].  表示取所有横轴。\n",
    "# 第二个1：，表示从第二列开始，取所有列。\n",
    "print(arrs[:,1:])"
   ]
  },
  {
   "cell_type": "markdown",
   "metadata": {},
   "source": [
    "# 实践 python 读取日志\n",
    "\n",
    " * 给定时间范围、日志路径 下载日志 <br/>\n",
    " * 处理日志  <br/>\n",
    "     * 超大文件，用with处理  <br/>\n",
    "     * 如果出现 ITEM 错误， 则获取用户指令option （使用容器，只保存最新10条数据）<br/>\n",
    "     * 对option 进行记录 （option ，time） <br/>\n",
    "     * 每完成一个日志，将结果保存在文本中。<br/>\n",
    " * 展示进度\n",
    " \n",
    "   "
   ]
  },
  {
   "cell_type": "code",
   "execution_count": 11,
   "metadata": {
    "collapsed": false
   },
   "outputs": [
    {
     "ename": "ReadError",
     "evalue": "file could not be opened successfully",
     "output_type": "error",
     "traceback": [
      "\u001b[0;31m---------------------------------------------------------------------------\u001b[0m",
      "\u001b[0;31mReadError\u001b[0m                                 Traceback (most recent call last)",
      "\u001b[0;32m<ipython-input-11-0169b357320f>\u001b[0m in \u001b[0;36m<module>\u001b[0;34m()\u001b[0m\n\u001b[1;32m     19\u001b[0m \u001b[1;33m\u001b[0m\u001b[0m\n\u001b[1;32m     20\u001b[0m \u001b[1;32mif\u001b[0m\u001b[1;33m(\u001b[0m\u001b[0misDown\u001b[0m\u001b[1;33m)\u001b[0m\u001b[1;33m:\u001b[0m\u001b[1;33m\u001b[0m\u001b[0m\n\u001b[0;32m---> 21\u001b[0;31m    \u001b[0muntar\u001b[0m\u001b[1;33m(\u001b[0m\u001b[1;34m'log.2017-06-12.info.001.log.gz'\u001b[0m\u001b[1;33m,\u001b[0m\u001b[1;34m'/'\u001b[0m\u001b[1;33m)\u001b[0m\u001b[1;33m\u001b[0m\u001b[0m\n\u001b[0m\u001b[1;32m     22\u001b[0m    \u001b[0mcheckRegex\u001b[0m\u001b[1;33m(\u001b[0m\u001b[1;34m'log.2017-06-12.info.001.log'\u001b[0m\u001b[1;33m)\u001b[0m\u001b[1;33m\u001b[0m\u001b[0m\n",
      "\u001b[0;32m<ipython-input-11-0169b357320f>\u001b[0m in \u001b[0;36muntar\u001b[0;34m(fname, dirs)\u001b[0m\n\u001b[1;32m      8\u001b[0m \u001b[1;33m\u001b[0m\u001b[0m\n\u001b[1;32m      9\u001b[0m \u001b[1;32mdef\u001b[0m \u001b[0muntar\u001b[0m\u001b[1;33m(\u001b[0m\u001b[0mfname\u001b[0m\u001b[1;33m,\u001b[0m \u001b[0mdirs\u001b[0m\u001b[1;33m)\u001b[0m\u001b[1;33m:\u001b[0m\u001b[1;33m\u001b[0m\u001b[0m\n\u001b[0;32m---> 10\u001b[0;31m     \u001b[0mt\u001b[0m \u001b[1;33m=\u001b[0m \u001b[0mtarfile\u001b[0m\u001b[1;33m.\u001b[0m\u001b[0mopen\u001b[0m\u001b[1;33m(\u001b[0m\u001b[0mfname\u001b[0m\u001b[1;33m)\u001b[0m\u001b[1;33m\u001b[0m\u001b[0m\n\u001b[0m\u001b[1;32m     11\u001b[0m     \u001b[0mt\u001b[0m\u001b[1;33m.\u001b[0m\u001b[0mextractall\u001b[0m\u001b[1;33m(\u001b[0m\u001b[0mpath\u001b[0m \u001b[1;33m=\u001b[0m \u001b[0mdirs\u001b[0m\u001b[1;33m)\u001b[0m\u001b[1;33m\u001b[0m\u001b[0m\n\u001b[1;32m     12\u001b[0m \u001b[1;33m\u001b[0m\u001b[0m\n",
      "\u001b[0;32mC:\\ProgramData\\Anaconda2\\envs\\tensorflow\\lib\\tarfile.py\u001b[0m in \u001b[0;36mopen\u001b[0;34m(cls, name, mode, fileobj, bufsize, **kwargs)\u001b[0m\n\u001b[1;32m   1560\u001b[0m                         \u001b[0mfileobj\u001b[0m\u001b[1;33m.\u001b[0m\u001b[0mseek\u001b[0m\u001b[1;33m(\u001b[0m\u001b[0msaved_pos\u001b[0m\u001b[1;33m)\u001b[0m\u001b[1;33m\u001b[0m\u001b[0m\n\u001b[1;32m   1561\u001b[0m                     \u001b[1;32mcontinue\u001b[0m\u001b[1;33m\u001b[0m\u001b[0m\n\u001b[0;32m-> 1562\u001b[0;31m             \u001b[1;32mraise\u001b[0m \u001b[0mReadError\u001b[0m\u001b[1;33m(\u001b[0m\u001b[1;34m\"file could not be opened successfully\"\u001b[0m\u001b[1;33m)\u001b[0m\u001b[1;33m\u001b[0m\u001b[0m\n\u001b[0m\u001b[1;32m   1563\u001b[0m \u001b[1;33m\u001b[0m\u001b[0m\n\u001b[1;32m   1564\u001b[0m         \u001b[1;32melif\u001b[0m \u001b[1;34m\":\"\u001b[0m \u001b[1;32min\u001b[0m \u001b[0mmode\u001b[0m\u001b[1;33m:\u001b[0m\u001b[1;33m\u001b[0m\u001b[0m\n",
      "\u001b[0;31mReadError\u001b[0m: file could not be opened successfully"
     ]
    }
   ],
   "source": [
    "import ftplib\n",
    "import re\n",
    "\n",
    "\n",
    "def connectFtp():\n",
    "    ftp = ftplib.FTP('10.5.72.110')\n",
    "    ftp.login('app_bkg', 'TGBDdfh852')\n",
    "    return ftp\n",
    "\n",
    "\n",
    "def getFirstFile(ftp):\n",
    "    ftp.cwd('/opt/applog/jcf/BKG_ORServer')\n",
    "    files = ftp.nlst()  # 获取当前目录下所有文件名\n",
    "    files = list(filter(lambda x: x.endswith('log.gz') == False, files))\n",
    "    filename = files.pop(0)\n",
    "    return filename\n",
    "\n",
    "\n",
    "def download(ftp, filename):\n",
    "    with open(filename, 'wb+') as fp:\n",
    "        try:\n",
    "            ftp.retrbinary(\"RETR %s\" % filename, fp.write)\n",
    "            fp.flush()\n",
    "        except ftplib.error_perm:\n",
    "            return False\n",
    "        return True\n",
    "\n",
    "\n",
    "\n",
    "def checkRegex(filename,cur_cmd,error_cmd_map):\n",
    "    with open(filename) as f:\n",
    "        for line in f:\n",
    "            if re.match('.+INFO INPUT CMD.+', line) != None:\n",
    "                cur_cmd[0]= re.findall('CMD:.*', line).pop()\n",
    "          #  if re.match('.+ITEM.+', line) != None:\n",
    "            if re.match('.+TRANSACTION TOTAL TIME.+', line) != None:\n",
    "                count = error_cmd_map.get(cur_cmd[0])\n",
    "                count = 1 if count == None else count+1\n",
    "                error_cmd_map[cur_cmd[0]]=count\n",
    "# ftp = connectFtp()\n",
    "# filename = getFirstFile(ftp)\n",
    "# print(filename)\n",
    "# download(ftp, filename)\n",
    "cur_cmd = [0]\n",
    "error_cmd_map = {}\n",
    "filename = 'log.2017-06-14.info.001.log'\n",
    "checkRegex(filename,cur_cmd,error_cmd_map)\n",
    "print(error_cmd_map)"
   ]
  }
 ],
 "metadata": {
  "kernelspec": {
   "display_name": "Python 3",
   "language": "python",
   "name": "python3"
  },
  "language_info": {
   "codemirror_mode": {
    "name": "ipython",
    "version": 3
   },
   "file_extension": ".py",
   "mimetype": "text/x-python",
   "name": "python",
   "nbconvert_exporter": "python",
   "pygments_lexer": "ipython3",
   "version": "3.5.2"
  }
 },
 "nbformat": 4,
 "nbformat_minor": 2
}

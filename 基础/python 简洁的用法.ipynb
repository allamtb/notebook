{
 "cells": [
  {
   "cell_type": "markdown",
   "metadata": {},
   "source": [
    "# 1.列表推导\n",
    "\n",
    " 你有一个list：bag = [1, 2, 3, 4, 5]\n",
    "\n",
    " 现在你想让所有元素翻倍，让它看起来是这个样子：[2, 4, 6, 8, 10]\n",
    " \n",
    " 大多初学者，根据之前语言的经验会大概这样来做\n"
   ]
  },
  {
   "cell_type": "code",
   "execution_count": 31,
   "metadata": {
    "collapsed": false
   },
   "outputs": [
    {
     "name": "stdout",
     "output_type": "stream",
     "text": [
      "[2, 4, 6, 8, 10]\n"
     ]
    }
   ],
   "source": [
    "bag = [1, 2, 3, 4, 5]  \n",
    "for i in range(len(bag)):  \n",
    "    bag[i] = bag[i] * 2\n",
    "print bag"
   ]
  },
  {
   "cell_type": "markdown",
   "metadata": {},
   "source": [
    "但是有更好的方法："
   ]
  },
  {
   "cell_type": "code",
   "execution_count": 32,
   "metadata": {
    "collapsed": false
   },
   "outputs": [
    {
     "name": "stdout",
     "output_type": "stream",
     "text": [
      "[2, 4, 6, 8, 10]\n"
     ]
    }
   ],
   "source": [
    "bag = [1, 2, 3, 4, 5]  \n",
    "bag =[ i*2 for i in bag]\n",
    "print bag"
   ]
  },
  {
   "cell_type": "markdown",
   "metadata": {},
   "source": [
    "# 2遍历列表 \n",
    "\n",
    "如果x是一个列表，你可以对它的元素进行迭代。多数情况下你不需要各元素的索引，但如果你非要这样做，那就用enumerate函数。\n",
    "它像下边的样子："
   ]
  },
  {
   "cell_type": "code",
   "execution_count": 33,
   "metadata": {
    "collapsed": false
   },
   "outputs": [
    {
     "name": "stdout",
     "output_type": "stream",
     "text": [
      "2\n",
      "4\n",
      "6\n",
      "8\n",
      "10\n",
      "(0, 2)\n",
      "(1, 4)\n",
      "(2, 6)\n",
      "(3, 8)\n",
      "(4, 10)\n"
     ]
    }
   ],
   "source": [
    "for i in bag:\n",
    "    print i\n",
    "for index, element in enumerate(bag):  \n",
    "    print(index, element)"
   ]
  },
  {
   "cell_type": "markdown",
   "metadata": {},
   "source": [
    "# 3. 元素互换\n",
    "\n",
    "如果你是从java或者C语言转到Python来，可能会习惯于这样：\n",
    "``` java\n",
    "   String a = 5 ; \n",
    "   String  b = 10;\n",
    "   //交换 a 和 b\n",
    "   tmp = a  ;\n",
    "   a = b  ;\n",
    "   b = tmp;\n",
    "```\n",
    "   "
   ]
  },
  {
   "cell_type": "markdown",
   "metadata": {},
   "source": [
    "但Python提供了一个更自然更好的方法！\n"
   ]
  },
  {
   "cell_type": "code",
   "execution_count": 34,
   "metadata": {
    "collapsed": false
   },
   "outputs": [
    {
     "name": "stdout",
     "output_type": "stream",
     "text": [
      "10 5\n"
     ]
    }
   ],
   "source": [
    "a = 5  \n",
    "b = 10  \n",
    "# 交换a 和 b\n",
    "a, b = b, a\n",
    "print a,b"
   ]
  },
  {
   "cell_type": "markdown",
   "metadata": {},
   "source": [
    "# 4 初始化列表\n",
    "假如你要一个是10个整数0的列表，你可能首先想到：\n",
    "``` python\n",
    "bag = []  \n",
    "for _ in range(10):  \n",
    "    bag.append(0)\n",
    "```\n",
    "其实python 提供了："
   ]
  },
  {
   "cell_type": "code",
   "execution_count": 35,
   "metadata": {
    "collapsed": false
   },
   "outputs": [
    {
     "name": "stdout",
     "output_type": "stream",
     "text": [
      "[0, 0, 0, 0, 0, 0, 0, 0, 0, 0]\n"
     ]
    }
   ],
   "source": [
    "bag = [0] * 10 \n",
    "print bag"
   ]
  },
  {
   "cell_type": "markdown",
   "metadata": {},
   "source": [
    "# 5 切片  "
   ]
  },
  {
   "cell_type": "code",
   "execution_count": 36,
   "metadata": {
    "collapsed": false
   },
   "outputs": [
    {
     "name": "stdout",
     "output_type": "stream",
     "text": [
      "[0, 1, 2, 3, 4]\n",
      "[5, 6, 7, 8, 9]\n",
      "[1, 3, 5, 7, 9]\n",
      "[9, 8, 7, 6, 5, 4, 3, 2, 1, 0]\n"
     ]
    }
   ],
   "source": [
    "bag = [0, 1, 2, 3, 4, 5, 6, 7, 8, 9] \n",
    "#提取前5个元素,省略第一个元素。表示从0开始。\n",
    "print bag[:5]\n",
    "#提取后5个元素,-5表示倒数第五个元素，省略第二个元素表示到最后一个元素。\n",
    "print bag[-5:]\n",
    "#间隔2个元素进行提取,从1开始，按间隔:2取列表\n",
    "print bag[1::2]\n",
    "#翻转列表\n",
    "print bag[::-1]"
   ]
  }
 ],
 "metadata": {
  "kernelspec": {
   "display_name": "Python 2",
   "language": "python",
   "name": "python2"
  },
  "language_info": {
   "codemirror_mode": {
    "name": "ipython",
    "version": 2
   },
   "file_extension": ".py",
   "mimetype": "text/x-python",
   "name": "python",
   "nbconvert_exporter": "python",
   "pygments_lexer": "ipython2",
   "version": "2.7.13"
  }
 },
 "nbformat": 4,
 "nbformat_minor": 2
}

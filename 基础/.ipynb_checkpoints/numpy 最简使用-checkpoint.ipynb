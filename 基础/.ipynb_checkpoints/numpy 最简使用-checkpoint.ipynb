{
 "cells": [
  {
   "cell_type": "code",
   "execution_count": 2,
   "metadata": {
    "collapsed": true
   },
   "outputs": [],
   "source": [
    "import numpy as np"
   ]
  },
  {
   "cell_type": "markdown",
   "metadata": {},
   "source": [
    "# 一、初始化数据"
   ]
  },
  {
   "cell_type": "markdown",
   "metadata": {},
   "source": [
    "  * 使用 **np.arange** 生成从0到6，步长为1 的数组 ，(0,6)左闭右开,即结果停留在5。"
   ]
  },
  {
   "cell_type": "code",
   "execution_count": 3,
   "metadata": {
    "collapsed": false,
    "scrolled": true
   },
   "outputs": [
    {
     "ename": "SyntaxError",
     "evalue": "Missing parentheses in call to 'print' (<ipython-input-3-c4f064f715b9>, line 2)",
     "output_type": "error",
     "traceback": [
      "\u001b[0;36m  File \u001b[0;32m\"<ipython-input-3-c4f064f715b9>\"\u001b[0;36m, line \u001b[0;32m2\u001b[0m\n\u001b[0;31m    print x\u001b[0m\n\u001b[0m          ^\u001b[0m\n\u001b[0;31mSyntaxError\u001b[0m\u001b[0;31m:\u001b[0m Missing parentheses in call to 'print'\n"
     ]
    }
   ],
   "source": [
    "x = np.arange(0,6,1,np.float32) #返回的是向量\n",
    "print x\n",
    "print x.shape  # 向量的shape，一个tuple（长度，）\n",
    "print x.reshape(1,6)# 转化为矩阵后，会发现多一个括号。\n",
    "x[None,:] #使用 {None：] 在 x轴上添加一维，等同于 reshape（1,6）"
   ]
  },
  {
   "cell_type": "markdown",
   "metadata": {},
   "source": [
    "*  用 **np.linspace(0,2,5)** 来生成起始值为0、结束值为2、个数为5的数组。 这里5表示5个数，那么0-2之间的间隔就有4个，间隔值为0.5"
   ]
  },
  {
   "cell_type": "code",
   "execution_count": null,
   "metadata": {
    "collapsed": false
   },
   "outputs": [],
   "source": [
    "x = np.linspace(0,2, 5) #返回向量\n",
    "print x\n",
    "x[:,None]"
   ]
  },
  {
   "cell_type": "code",
   "execution_count": null,
   "metadata": {
    "collapsed": true
   },
   "outputs": [],
   "source": []
  },
  {
   "cell_type": "markdown",
   "metadata": {},
   "source": [
    " * 可使用 **np.reshape** 方法来对数组重新排列。"
   ]
  },
  {
   "cell_type": "code",
   "execution_count": null,
   "metadata": {
    "collapsed": false
   },
   "outputs": [],
   "source": [
    "data=np.arange(0,6,1,np.float32)\n",
    "data=data.astype('int')\n",
    "np.reshape(data,(-1,3))"
   ]
  },
  {
   "cell_type": "markdown",
   "metadata": {},
   "source": [
    "* 使用 **np.array()** 将普通python数组转为numpy管理的ndarray数组"
   ]
  },
  {
   "cell_type": "code",
   "execution_count": null,
   "metadata": {
    "collapsed": false
   },
   "outputs": [],
   "source": [
    "arr = [1,3,4,5]\n",
    "ndarr = np.array(arr)\n",
    "ndarr.reshape(2,2)"
   ]
  },
  {
   "cell_type": "markdown",
   "metadata": {},
   "source": [
    " * 使用 **ones /zeros/ zeros_like** 便捷生成比较常用的数组，如全 1 、全 0 数组\n",
    " "
   ]
  },
  {
   "cell_type": "code",
   "execution_count": null,
   "metadata": {
    "collapsed": false
   },
   "outputs": [],
   "source": [
    "x = np.ones((3,2))\n",
    "print x\n",
    "x.shape"
   ]
  },
  {
   "cell_type": "code",
   "execution_count": null,
   "metadata": {
    "collapsed": false
   },
   "outputs": [],
   "source": [
    "np.zeros((3,2))"
   ]
  },
  {
   "cell_type": "code",
   "execution_count": null,
   "metadata": {
    "collapsed": false
   },
   "outputs": [],
   "source": [
    "arr = [[1,2,3],[3,2,1]]\n",
    "np.zeros_like(arr)"
   ]
  },
  {
   "cell_type": "markdown",
   "metadata": {},
   "source": [
    " * 使用 **np.random.normal**来生成高斯分布数组，均值为0 、标准差为0.05、形状为 3行、2列"
   ]
  },
  {
   "cell_type": "code",
   "execution_count": null,
   "metadata": {
    "collapsed": false
   },
   "outputs": [],
   "source": [
    "np.random.normal(0, 0.05,(3)) "
   ]
  },
  {
   "cell_type": "markdown",
   "metadata": {},
   "source": [
    "   * 使用 **np.random.randn(3)**来生成正态分布，即均值为0、标准差为0.05的高斯分布。numpy提供了np.random.randn方法来简化操作。"
   ]
  },
  {
   "cell_type": "code",
   "execution_count": null,
   "metadata": {
    "collapsed": false
   },
   "outputs": [],
   "source": [
    "np.random.randn(3) "
   ]
  },
  {
   "cell_type": "markdown",
   "metadata": {},
   "source": [
    "* 图形化正态分布"
   ]
  },
  {
   "cell_type": "code",
   "execution_count": null,
   "metadata": {
    "collapsed": false
   },
   "outputs": [],
   "source": [
    "mu, sigma = 0, 1\n",
    "s = np.random.normal(loc=mu, scale=sigma, size=1000)\n",
    "print np.mean(s)\n",
    "print np.std(s)\n",
    "%matplotlib inline\n",
    "import matplotlib.pyplot as plt  \n",
    "plt.hist(s)"
   ]
  },
  {
   "cell_type": "markdown",
   "metadata": {},
   "source": [
    "* **np.vstack** 垂直扩展，可以理解为数据库表中直接插入新数据 <br/>\n",
    "  **np.hstack** 水平扩展，可以理解为，在数据库表修改对应行，使得行数据等于 原数据+新数据"
   ]
  },
  {
   "cell_type": "code",
   "execution_count": 4,
   "metadata": {
    "collapsed": false
   },
   "outputs": [
    {
     "data": {
      "text/plain": [
       "array([[1],\n",
       "       [2],\n",
       "       [3],\n",
       "       [2],\n",
       "       [3],\n",
       "       [4]])"
      ]
     },
     "execution_count": 4,
     "metadata": {},
     "output_type": "execute_result"
    }
   ],
   "source": [
    "a = np.array([[1], [2], [3]])\n",
    "b = np.array([[2], [3], [4]])\n",
    "np.vstack((a,b))"
   ]
  },
  {
   "cell_type": "code",
   "execution_count": 5,
   "metadata": {
    "collapsed": false
   },
   "outputs": [
    {
     "data": {
      "text/plain": [
       "array([[1, 2],\n",
       "       [2, 3],\n",
       "       [3, 4]])"
      ]
     },
     "execution_count": 5,
     "metadata": {},
     "output_type": "execute_result"
    }
   ],
   "source": [
    "np.hstack((a,b))"
   ]
  },
  {
   "cell_type": "markdown",
   "metadata": {},
   "source": [
    "使用  np.random.choice(range(10)) 来选择10以内的数字"
   ]
  },
  {
   "cell_type": "code",
   "execution_count": 10,
   "metadata": {
    "collapsed": false
   },
   "outputs": [
    {
     "data": {
      "text/plain": [
       "5"
      ]
     },
     "execution_count": 10,
     "metadata": {},
     "output_type": "execute_result"
    }
   ],
   "source": [
    "np.random.choice(range(10))"
   ]
  },
  {
   "cell_type": "code",
   "execution_count": 11,
   "metadata": {
    "collapsed": false
   },
   "outputs": [
    {
     "data": {
      "text/plain": [
       "array([3, 6])"
      ]
     },
     "execution_count": 11,
     "metadata": {},
     "output_type": "execute_result"
    }
   ],
   "source": [
    "np.random.choice(range(10),2) # 选两个"
   ]
  },
  {
   "cell_type": "markdown",
   "metadata": {},
   "source": [
    "# 二、线性代数操作"
   ]
  },
  {
   "cell_type": "markdown",
   "metadata": {},
   "source": [
    "> Skyler Speakman曾说：“线性代数式21世纪的数学”，我完全赞同该论述。在ML领域，线性代数无处不在。矩阵运算、主成分分析（PCA）、奇异值分解（SVD）、特征分解、LU分解、QR分解、对称矩阵、正交化&标准正交化、投射、特征值&特征向量、向量空间和规范等这些概念对理解机器学习的优化方法都是必须的。我认为线性代数很棒的一点是，互联网上的资源非常多。我总是说传统课堂要消亡，因为互联网上有如此大量的资源。我最喜欢的线性代数课程是MIT的Gilbert Strang教授的。"
   ]
  },
  {
   "cell_type": "markdown",
   "metadata": {},
   "source": [
    "* 可以这样理解： 一维数组的称为向量，多维的数组称为矩阵。\n",
    "  在java的思路里面，进行两个向量相乘，可以用 \n",
    "    ```java \n",
    "      int [] x1 = [1,2,3];\n",
    "      int [] x2=[3,2,1];\n",
    "      int [] xnew =[0,0,0];\n",
    "      for(int i=0;i <x1.size();i++)\n",
    "      { \n",
    "        xnew[i]=x1[i]*x2[i]\n",
    "      }\n",
    "    ```\n",
    "  来完成，而在python中可以用numpy简单的完成："
   ]
  },
  {
   "cell_type": "code",
   "execution_count": null,
   "metadata": {
    "collapsed": false
   },
   "outputs": [],
   "source": [
    "x1 = np.array([1,2,3])\n",
    "x2= np.array([3,2,1])\n",
    "print x1.ndim\n",
    "print x1*x2          #对应位置相乘"
   ]
  },
  {
   "cell_type": "code",
   "execution_count": null,
   "metadata": {
    "collapsed": false
   },
   "outputs": [],
   "source": [
    "x1 = np.array([[1,2,3]])\n",
    "x2= np.array([[3,2],[4,5],[7,8]])\n",
    "\n",
    "np.dot(x1,x2)  # 矩阵乘法\n"
   ]
  },
  {
   "cell_type": "code",
   "execution_count": null,
   "metadata": {
    "collapsed": false
   },
   "outputs": [],
   "source": [
    "x = np.array([0.5, 0.1])\n",
    "y = np.array([[0.5],\n",
    "              [0.1],\n",
    "              [0.1]])\n",
    "\n",
    "x*y\n",
    "# np.dot(x,y) 报错"
   ]
  },
  {
   "cell_type": "code",
   "execution_count": null,
   "metadata": {
    "collapsed": false
   },
   "outputs": [],
   "source": [
    "x = np.array([0.5, 0.1])\n",
    "y = np.array([[0.5],[0.3]])\n",
    "\n",
    "np.dot(x,y)\n",
    "\n"
   ]
  },
  {
   "cell_type": "markdown",
   "metadata": {
    "collapsed": false
   },
   "source": [
    "* 使用 **np.linalg.eig(j)** 获取矩阵的特征向量以及特征值。 <br> 注意的是，返回值有 特征值w 以及对应的特征向量W。 因为返回值两者都是数组，其对应关系为 W[:,-1]  对应 w[1] .具体看下面的列子。\n",
    "\n",
    "> 特征值的定义： 设A是n阶矩阵，如果数 λ 和 n 维非零列向量ε使关系式：  <br>  \n",
    ">            A ε =  λε 成立  <br>          \n",
    ">  那么，这样的数 λ 称为矩阵 A的特征值，非零向量 ε称为A 对应于特征值 λ 的特征向量。 <br>\n",
    "\n",
    "参见工程数学线性代数第六版 P120"
   ]
  },
  {
   "cell_type": "code",
   "execution_count": null,
   "metadata": {
    "collapsed": false
   },
   "outputs": [],
   "source": [
    "j =np.array([[3,-1],[-1,3]])\n",
    "print j\n",
    "w,W = np.linalg.eig(j)\n",
    "print w\n",
    "print W\n",
    "print w[0]\n",
    "print W[:,0]"
   ]
  },
  {
   "cell_type": "markdown",
   "metadata": {},
   "source": [
    "* 协方差"
   ]
  },
  {
   "cell_type": "markdown",
   "metadata": {
    "collapsed": true
   },
   "source": [
    "# 三、实践问题\n",
    "\n",
    "   对任意形状的二维矩阵 x ，构建 softmax（x） 函数使得函数返回结果与 二维矩阵x 形状相同，<br>\n",
    "   且x矩阵中的每一个元素等于该元素的指数值与矩阵中与该元素同位的所有元素指数和 相除。\n",
    "   即如下公式：\n",
    "   <img src='softmax.png'>\n",
    "   softmax函数是机器学习多项式分类问题中常用到的 概率分布激活函数。\n",
    "   \n",
    "   给定的测试用例为："
   ]
  },
  {
   "cell_type": "code",
   "execution_count": null,
   "metadata": {
    "collapsed": false
   },
   "outputs": [],
   "source": [
    "a = [[1,2,3],[3,2,1],[4,5,6]]\n",
    "arr = np.array(a)\n",
    "cov_mat = np.cov(arr)\n",
    "np.linalg.eig(cov_mat)\n"
   ]
  },
  {
   "cell_type": "code",
   "execution_count": null,
   "metadata": {
    "collapsed": false
   },
   "outputs": [],
   "source": [
    "x =np.linspace(1,3,6)\n",
    "arrX = np.vstack((x,np.ones_like(x),np.ones_like(x)*0.2))\n",
    "print arrX\n",
    "print arrX.shape, arrX.ndim"
   ]
  },
  {
   "cell_type": "markdown",
   "metadata": {},
   "source": [
    "建议自己先思考下再看下面的语句。<br>\n",
    "可以看到 一句话就可以搞定心目中的多重循环。"
   ]
  },
  {
   "cell_type": "code",
   "execution_count": null,
   "metadata": {
    "collapsed": false
   },
   "outputs": [],
   "source": [
    "def softmax(x):\n",
    "   return np.exp(x)/np.sum(np.exp(x),axis=0)\n",
    "\n",
    "plt.plot(x,softmax(arrX).T)\n"
   ]
  }
 ],
 "metadata": {
  "kernelspec": {
   "display_name": "Python 3",
   "language": "python",
   "name": "python3"
  },
  "language_info": {
   "codemirror_mode": {
    "name": "ipython",
    "version": 3
   },
   "file_extension": ".py",
   "mimetype": "text/x-python",
   "name": "python",
   "nbconvert_exporter": "python",
   "pygments_lexer": "ipython3",
   "version": "3.5.2"
  }
 },
 "nbformat": 4,
 "nbformat_minor": 2
}
